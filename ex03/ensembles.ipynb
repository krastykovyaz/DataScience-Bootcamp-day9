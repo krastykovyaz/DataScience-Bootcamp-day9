{
 "cells": [
  {
   "cell_type": "markdown",
   "metadata": {},
   "source": [
    "# Day 09. Exercise 03\n",
    "# Ensembles"
   ]
  },
  {
   "cell_type": "markdown",
   "metadata": {},
   "source": [
    "## 0. Imports"
   ]
  },
  {
   "cell_type": "code",
   "execution_count": 1,
   "metadata": {},
   "outputs": [
    {
     "name": "stderr",
     "output_type": "stream",
     "text": [
      "/Users/a19028558/Desktop/transfer_accounts/akovyaz/learning_myself/env_school/lib/python3.8/site-packages/pandas/compat/__init__.py:97: UserWarning: Could not import the lzma module. Your installed Python is incomplete. Attempting to use lzma compression will result in a RuntimeError.\n",
      "  warnings.warn(msg)\n"
     ]
    },
    {
     "data": {
      "text/html": [
       "<style>.container { width:95% !important; }</style>"
      ],
      "text/plain": [
       "<IPython.core.display.HTML object>"
      ]
     },
     "metadata": {},
     "output_type": "display_data"
    }
   ],
   "source": [
    "# This is an display config snippet!\n",
    "import pandas as pd\n",
    "from IPython.core.display import display, HTML\n",
    "pd.options.display.float_format = '{:,.4f}'.format\n",
    "\n",
    "pd.set_option('display.max_rows', 1000)\n",
    "pd.set_option('display.max_columns', 500)\n",
    "pd.set_option('display.max_colwidth', 200)\n",
    "pd.set_option('display.expand_frame_repr', False)\n",
    "display(HTML(\"<style>.container { width:95% !important; }</style>\"))"
   ]
  },
  {
   "cell_type": "code",
   "execution_count": 2,
   "metadata": {},
   "outputs": [],
   "source": [
    "from sklearn.model_selection import train_test_split\n",
    "from sklearn.linear_model import LogisticRegression\n",
    "from sklearn.model_selection import StratifiedKFold\n",
    "from sklearn.model_selection import cross_val_score\n",
    "from sklearn.preprocessing import StandardScaler\n",
    "from sklearn.metrics import accuracy_score, precision_score, roc_auc_score, recall_score\n",
    "import numpy as np\n",
    "from sklearn.utils._testing import ignore_warnings\n",
    "from sklearn.svm import SVC\n",
    "from sklearn.tree import DecisionTreeClassifier\n",
    "from sklearn.ensemble import RandomForestClassifier\n",
    "import pickle\n",
    "from sklearn.model_selection import GridSearchCV\n",
    "from tqdm.auto import tqdm\n",
    "from itertools import product\n",
    "from collections import defaultdict\n",
    "from sklearn.ensemble import VotingClassifier, BaggingClassifier, StackingClassifier"
   ]
  },
  {
   "cell_type": "markdown",
   "metadata": {},
   "source": [
    "## 1. Preprocessing"
   ]
  },
  {
   "cell_type": "markdown",
   "metadata": {},
   "source": [
    "1. Create the same dataframe as in the previous exercise.\n",
    "2. Using `train_test_split` with parameters `test_size=0.2`, `random_state=21` get `X_train`, `y_train`, `X_test`, `y_test` and then get `X_train`, `y_train`, `X_valid`, `y_valid` from the previous `X_train`, `y_train`. Use the additional parameter `stratify`."
   ]
  },
  {
   "cell_type": "code",
   "execution_count": 3,
   "metadata": {},
   "outputs": [],
   "source": [
    "df = pd.read_csv('../data/dayofweek-not-scaled.csv')"
   ]
  },
  {
   "cell_type": "code",
   "execution_count": 4,
   "metadata": {},
   "outputs": [],
   "source": [
    "scaler = StandardScaler()"
   ]
  },
  {
   "cell_type": "code",
   "execution_count": 5,
   "metadata": {},
   "outputs": [],
   "source": [
    "X = np.hstack([scaler.fit_transform(df[['numTrials', 'hour']]), df.drop(columns=['numTrials', 'hour', 'dayofweek'])])\n",
    "y = df['dayofweek'].values"
   ]
  },
  {
   "cell_type": "code",
   "execution_count": 6,
   "metadata": {},
   "outputs": [],
   "source": [
    "X_train, X_test, y_train, y_test = train_test_split(X, y, stratify=y, random_state=21, test_size=0.2)"
   ]
  },
  {
   "cell_type": "code",
   "execution_count": null,
   "metadata": {},
   "outputs": [],
   "source": []
  },
  {
   "cell_type": "code",
   "execution_count": null,
   "metadata": {},
   "outputs": [],
   "source": []
  },
  {
   "cell_type": "code",
   "execution_count": null,
   "metadata": {},
   "outputs": [],
   "source": []
  },
  {
   "cell_type": "markdown",
   "metadata": {},
   "source": [
    "## 2. Individual classifiers"
   ]
  },
  {
   "cell_type": "markdown",
   "metadata": {},
   "source": [
    "1. Train SVM, decision tree and random forest again with the best parameters that you got from the 01 exercise with `random_state=21` for all of them.\n",
    "2. Evaluate `accuracy`, `precision`, and `recall` for them on the validation set.\n",
    "3. The result of each cell of the section should look like this:\n",
    "\n",
    "```\n",
    "accuracy is 0.87778\n",
    "precision is 0.88162\n",
    "recall is 0.87778\n",
    "```"
   ]
  },
  {
   "cell_type": "code",
   "execution_count": 7,
   "metadata": {},
   "outputs": [
    {
     "name": "stdout",
     "output_type": "stream",
     "text": [
      "accuracy is 0.8964497041420119\n",
      "precision is 0.8987502097411376\n",
      "recall is 0.8964497041420119\n"
     ]
    }
   ],
   "source": [
    "svc_params = {'C': 10, 'class_weight': None, 'gamma': 'scale', 'kernel': 'rbf'}\n",
    "svc = SVC(random_state=21, probability=True, **svc_params)\n",
    "svc.fit(X_train, y_train)\n",
    "y_pred = svc.predict(X_test)\n",
    "print(f\"accuracy is {accuracy_score(y_test, y_pred)}\")\n",
    "print(f\"precision is {precision_score(y_test, y_pred, average='weighted')}\")\n",
    "print(f\"recall is {recall_score(y_test, y_pred, average='weighted')}\")"
   ]
  },
  {
   "cell_type": "code",
   "execution_count": 8,
   "metadata": {},
   "outputs": [
    {
     "name": "stdout",
     "output_type": "stream",
     "text": [
      "accuracy is 0.8994082840236687\n",
      "precision is 0.9010905154871189\n",
      "recall is 0.8994082840236687\n"
     ]
    }
   ],
   "source": [
    "tree_params = {'class_weight': 'balanced', 'criterion': 'gini', 'max_depth': 25}\n",
    "tree = DecisionTreeClassifier(random_state=21, **tree_params)\n",
    "tree.fit(X_train, y_train)\n",
    "y_pred = tree.predict(X_test)\n",
    "print(f\"accuracy is {accuracy_score(y_test, y_pred)}\")\n",
    "print(f\"precision is {precision_score(y_test, y_pred, average='weighted')}\")\n",
    "print(f\"recall is {recall_score(y_test, y_pred, average='weighted')}\")"
   ]
  },
  {
   "cell_type": "code",
   "execution_count": 9,
   "metadata": {},
   "outputs": [
    {
     "name": "stdout",
     "output_type": "stream",
     "text": [
      "accuracy is 0.9349112426035503\n",
      "precision is 0.9360699474016719\n",
      "recall is 0.9349112426035503\n"
     ]
    }
   ],
   "source": [
    "forest_params = {'class_weight': 'balanced', 'criterion': 'gini', 'max_depth': 30, 'n_estimators': 50}\n",
    "forest = RandomForestClassifier(random_state=21, **forest_params)\n",
    "forest.fit(X_train, y_train)\n",
    "y_pred = forest.predict(X_test)\n",
    "print(f\"accuracy is {accuracy_score(y_test, y_pred)}\")\n",
    "print(f\"precision is {precision_score(y_test, y_pred, average='weighted')}\")\n",
    "print(f\"recall is {recall_score(y_test, y_pred, average='weighted')}\")"
   ]
  },
  {
   "cell_type": "markdown",
   "metadata": {},
   "source": [
    "## 3. Voting classifiers"
   ]
  },
  {
   "cell_type": "markdown",
   "metadata": {},
   "source": [
    "1. Using `VotingClassifier` and the three models that you have just trained, calculate the `accuracy`, `precision`, and `recall` on the validation set.\n",
    "2. Play with the other parameteres.\n",
    "3. Calculate the `accuracy`, `precision` and `recall` on the test set for the model with the best weights in terms of accuracy (if there are several of them with equal values, choose the one with the higher precision)."
   ]
  },
  {
   "cell_type": "code",
   "execution_count": 10,
   "metadata": {},
   "outputs": [],
   "source": [
    "voting = VotingClassifier([('svc', svc), ('tree', tree), ('forest', forest)], voting='hard', weights=[1, 2, 2])"
   ]
  },
  {
   "cell_type": "code",
   "execution_count": 11,
   "metadata": {},
   "outputs": [
    {
     "name": "stdout",
     "output_type": "stream",
     "text": [
      "accuracy is 0.9349112426035503\n",
      "precision is 0.9356752950033232\n",
      "recall is 0.9349112426035503\n"
     ]
    }
   ],
   "source": [
    "voting.fit(X_train, y_train)\n",
    "y_pred = voting.predict(X_test)\n",
    "print(f\"accuracy is {accuracy_score(y_test, y_pred)}\")\n",
    "print(f\"precision is {precision_score(y_test, y_pred, average='weighted')}\")\n",
    "print(f\"recall is {recall_score(y_test, y_pred, average='weighted')}\")"
   ]
  },
  {
   "cell_type": "code",
   "execution_count": 12,
   "metadata": {},
   "outputs": [],
   "source": [
    "def magic(estimators, params):\n",
    "    result_metrics = defaultdict(dict)\n",
    "    assert len(estimators) == len(params)\n",
    "    for estimator, model_params in zip(estimators, params):\n",
    "        estimator = estimator.set_params(**model_params).fit(X_train, y_train)\n",
    "        y_pred = estimator.predict(X_test)\n",
    "        estimator_name = type(estimator).__name__\n",
    "        result_metrics['accuracy'][estimator_name] = accuracy_score(y_test, y_pred)\n",
    "        result_metrics['precision'][estimator_name] = precision_score(y_test, y_pred, average='weighted')\n",
    "        result_metrics['recall'][estimator_name] = recall_score(y_test, y_pred, average='weighted')\n",
    "    return dict(result_metrics)"
   ]
  },
  {
   "cell_type": "code",
   "execution_count": 13,
   "metadata": {},
   "outputs": [
    {
     "data": {
      "application/vnd.jupyter.widget-view+json": {
       "model_id": "c443f1d5bee84c7faf570ec8c0490574",
       "version_major": 2,
       "version_minor": 0
      },
      "text/plain": [
       "  0%|          | 0/125 [00:00<?, ?it/s]"
      ]
     },
     "metadata": {},
     "output_type": "display_data"
    }
   ],
   "source": [
    "results = []\n",
    "all_weigth = [(i, j, k) for i in range(1, 6) for j in range(1, 6) for k in range(1, 6)]\n",
    "for weights in tqdm(all_weigth, total=5**3):\n",
    "    results.append(magic([voting], [{'weights': weights}]))"
   ]
  },
  {
   "cell_type": "code",
   "execution_count": 14,
   "metadata": {},
   "outputs": [],
   "source": [
    "results = [{k: v['VotingClassifier'] for k, v in result.items()} for result in results]"
   ]
  },
  {
   "cell_type": "code",
   "execution_count": 15,
   "metadata": {},
   "outputs": [],
   "source": [
    "results = pd.DataFrame.from_dict(results)"
   ]
  },
  {
   "cell_type": "code",
   "execution_count": 16,
   "metadata": {},
   "outputs": [
    {
     "name": "stdout",
     "output_type": "stream",
     "text": [
      "{'accuracy': 0.9349112426035503, 'precision': 0.9360699474016719, 'recall': 0.9349112426035503}\n"
     ]
    }
   ],
   "source": [
    "print(results.query('accuracy == accuracy.max()').query('precision == precision.max()').query('recall == recall.max()').iloc[0].to_dict())"
   ]
  },
  {
   "cell_type": "code",
   "execution_count": null,
   "metadata": {},
   "outputs": [],
   "source": []
  },
  {
   "cell_type": "code",
   "execution_count": null,
   "metadata": {},
   "outputs": [],
   "source": []
  },
  {
   "cell_type": "code",
   "execution_count": null,
   "metadata": {},
   "outputs": [],
   "source": []
  },
  {
   "cell_type": "markdown",
   "metadata": {},
   "source": [
    "## 4. Bagging classifiers"
   ]
  },
  {
   "cell_type": "markdown",
   "metadata": {},
   "source": [
    "1. Using `BaggingClassifier` and `SVM` with the best parameters create an ensemble, try different values of the `n_estimators`, use `random_state=21`.\n",
    "2. Play with the other parameters.\n",
    "3. Calculate the `accuracy`, `precision`, and `recall` for the model with the best parameters (in terms of accuracy) on the test set (if there are several of them with equal values, choose the one with the higher precision)"
   ]
  },
  {
   "cell_type": "code",
   "execution_count": 17,
   "metadata": {},
   "outputs": [],
   "source": [
    "bagging = BaggingClassifier(svc, random_state=21)"
   ]
  },
  {
   "cell_type": "code",
   "execution_count": 18,
   "metadata": {},
   "outputs": [
    {
     "name": "stdout",
     "output_type": "stream",
     "text": [
      "accuracy is 0.8905325443786982\n",
      "precision is 0.8935279699697187\n",
      "recall is 0.8905325443786982\n"
     ]
    }
   ],
   "source": [
    "bagging.fit(X_train, y_train)\n",
    "y_pred = bagging.predict(X_test)\n",
    "print(f\"accuracy is {accuracy_score(y_test, y_pred)}\")\n",
    "print(f\"precision is {precision_score(y_test, y_pred, average='weighted')}\")\n",
    "print(f\"recall is {recall_score(y_test, y_pred, average='weighted')}\")"
   ]
  },
  {
   "cell_type": "code",
   "execution_count": 19,
   "metadata": {},
   "outputs": [],
   "source": [
    "grid_search = GridSearchCV(bagging, {'n_estimators': [5, 10, 50, 100]}, cv=5,verbose=2, )"
   ]
  },
  {
   "cell_type": "code",
   "execution_count": 20,
   "metadata": {},
   "outputs": [
    {
     "name": "stdout",
     "output_type": "stream",
     "text": [
      "Fitting 5 folds for each of 4 candidates, totalling 20 fits\n",
      "[CV] END .....................................n_estimators=5; total time=   0.8s\n",
      "[CV] END .....................................n_estimators=5; total time=   1.0s\n",
      "[CV] END .....................................n_estimators=5; total time=   1.0s\n",
      "[CV] END .....................................n_estimators=5; total time=   1.0s\n",
      "[CV] END .....................................n_estimators=5; total time=   0.8s\n",
      "[CV] END ....................................n_estimators=10; total time=   1.6s\n",
      "[CV] END ....................................n_estimators=10; total time=   1.6s\n",
      "[CV] END ....................................n_estimators=10; total time=   1.9s\n",
      "[CV] END ....................................n_estimators=10; total time=   1.6s\n",
      "[CV] END ....................................n_estimators=10; total time=   1.6s\n",
      "[CV] END ....................................n_estimators=50; total time=   8.8s\n",
      "[CV] END ....................................n_estimators=50; total time=   8.5s\n",
      "[CV] END ....................................n_estimators=50; total time=   8.4s\n",
      "[CV] END ....................................n_estimators=50; total time=   8.9s\n",
      "[CV] END ....................................n_estimators=50; total time=   7.4s\n",
      "[CV] END ...................................n_estimators=100; total time=  15.8s\n",
      "[CV] END ...................................n_estimators=100; total time=  17.7s\n",
      "[CV] END ...................................n_estimators=100; total time=  37.0s\n",
      "[CV] END ...................................n_estimators=100; total time=  23.8s\n",
      "[CV] END ...................................n_estimators=100; total time=  15.7s\n"
     ]
    },
    {
     "data": {
      "text/plain": [
       "GridSearchCV(cv=5,\n",
       "             estimator=BaggingClassifier(base_estimator=SVC(C=10,\n",
       "                                                            probability=True,\n",
       "                                                            random_state=21),\n",
       "                                         random_state=21),\n",
       "             param_grid={'n_estimators': [5, 10, 50, 100]}, verbose=2)"
      ]
     },
     "execution_count": 20,
     "metadata": {},
     "output_type": "execute_result"
    }
   ],
   "source": [
    "grid_search.fit(X_train, y_train)"
   ]
  },
  {
   "cell_type": "code",
   "execution_count": 21,
   "metadata": {},
   "outputs": [
    {
     "name": "stdout",
     "output_type": "stream",
     "text": [
      "accuracy is 0.8994082840236687\n",
      "precision is 0.9014451020625085\n",
      "recall is 0.8994082840236687\n"
     ]
    }
   ],
   "source": [
    "y_pred = grid_search.best_estimator_.predict(X_test)\n",
    "print(f\"accuracy is {accuracy_score(y_test, y_pred)}\")\n",
    "print(f\"precision is {precision_score(y_test, y_pred, average='weighted')}\")\n",
    "print(f\"recall is {recall_score(y_test, y_pred, average='weighted')}\")"
   ]
  },
  {
   "cell_type": "code",
   "execution_count": null,
   "metadata": {},
   "outputs": [],
   "source": []
  },
  {
   "cell_type": "code",
   "execution_count": null,
   "metadata": {},
   "outputs": [],
   "source": []
  },
  {
   "cell_type": "markdown",
   "metadata": {},
   "source": [
    "## 5. Stacking classifiers"
   ]
  },
  {
   "cell_type": "markdown",
   "metadata": {},
   "source": [
    "1. To achieve reproducibility in this case you will have to create an object of cross-validation generator: `StratifiedKFold(n_splits=n, shuffle=True, random_state=21)`, where `n` you will try to optimize (the details are below).\n",
    "2. Using `StackingClassifier` and the three models that you have recently trained, calculate the `accuracy`, `precision` and `recall` on the validation set, try different values of `n_splits` `[2, 3, 4, 5, 6, 7]` in the cross-validation generator and parameter `passthrough` in the classifier itself,\n",
    "3. Calculate the `accuracy`, `precision`, and `recall` for the model with the best parameters (in terms of accuracy) on the test set (if there are several of them with equal values, choose the one with the higher precision). Use `final_estimator=LogisticRegression(solver='liblinear')`."
   ]
  },
  {
   "cell_type": "code",
   "execution_count": null,
   "metadata": {},
   "outputs": [],
   "source": []
  },
  {
   "cell_type": "code",
   "execution_count": 22,
   "metadata": {},
   "outputs": [
    {
     "data": {
      "application/vnd.jupyter.widget-view+json": {
       "model_id": "e60e14b378c74d5b88f6305649ab9a11",
       "version_major": 2,
       "version_minor": 0
      },
      "text/plain": [
       "  0%|          | 0/6 [00:00<?, ?it/s]"
      ]
     },
     "metadata": {},
     "output_type": "display_data"
    },
    {
     "name": "stdout",
     "output_type": "stream",
     "text": [
      "2\n",
      "accuracy is 0.9349112426035503\n",
      "3\n",
      "accuracy is 0.9467455621301775\n",
      "4\n",
      "accuracy is 0.9319526627218935\n",
      "5\n",
      "accuracy is 0.9378698224852071\n",
      "6\n",
      "accuracy is 0.9319526627218935\n",
      "7\n",
      "accuracy is 0.9437869822485208\n"
     ]
    }
   ],
   "source": [
    "for n in tqdm([2, 3, 4, 5, 6, 7]):\n",
    "    print(n)\n",
    "    k_fold = StratifiedKFold(n_splits=n, shuffle=True, random_state=21)\n",
    "    stacking = StackingClassifier([('svc', svc), ('tree', tree), ('forest', forest)], cv=k_fold)\n",
    "    stacking.fit(X_train,y_train)\n",
    "    y_pred = stacking.predict(X_test)\n",
    "    print(f\"accuracy is {accuracy_score(y_test, y_pred)}\")"
   ]
  },
  {
   "cell_type": "code",
   "execution_count": 23,
   "metadata": {},
   "outputs": [
    {
     "name": "stdout",
     "output_type": "stream",
     "text": [
      "accuracy is 0.9467455621301775\n",
      "precision is 0.9476169593900625\n",
      "recall is 0.9467455621301775\n"
     ]
    }
   ],
   "source": [
    "k_fold = StratifiedKFold(n_splits=3, shuffle=True, random_state=21)\n",
    "stacking = StackingClassifier([('svc', svc), ('tree', tree), ('forest', forest)], cv=k_fold)\n",
    "stacking.fit(X_train,y_train)\n",
    "y_pred = stacking.predict(X_test)\n",
    "print(f\"accuracy is {accuracy_score(y_test, y_pred)}\")\n",
    "print(f\"precision is {precision_score(y_test, y_pred, average='weighted')}\")\n",
    "print(f\"recall is {recall_score(y_test, y_pred, average='weighted')}\")"
   ]
  },
  {
   "cell_type": "code",
   "execution_count": null,
   "metadata": {},
   "outputs": [],
   "source": []
  },
  {
   "cell_type": "code",
   "execution_count": null,
   "metadata": {},
   "outputs": [],
   "source": []
  },
  {
   "cell_type": "markdown",
   "metadata": {},
   "source": [
    "## 6. Predictions"
   ]
  },
  {
   "cell_type": "markdown",
   "metadata": {},
   "source": [
    "1. Choose the best model in terms of accuracy (if there are several of them with equal values, choose the one with the higher precision).\n",
    "2. Analyze: for which weekday your model makes the most errors (in % of the total number of samples of that class in your full dataset), for which labname and for which users.\n",
    "3. Save the model."
   ]
  },
  {
   "cell_type": "markdown",
   "metadata": {},
   "source": [
    "Stacking classifiers is the best in terms of the accuracy"
   ]
  },
  {
   "cell_type": "code",
   "execution_count": 24,
   "metadata": {},
   "outputs": [],
   "source": [
    "with open('../data/ex03_model.pkl', 'wb') as f:\n",
    "    pickle.dump(stacking, f)"
   ]
  },
  {
   "cell_type": "code",
   "execution_count": null,
   "metadata": {},
   "outputs": [],
   "source": []
  },
  {
   "cell_type": "code",
   "execution_count": null,
   "metadata": {},
   "outputs": [],
   "source": []
  },
  {
   "cell_type": "code",
   "execution_count": null,
   "metadata": {},
   "outputs": [],
   "source": []
  }
 ],
 "metadata": {
  "kernelspec": {
   "display_name": "Python 3",
   "language": "python",
   "name": "python3"
  },
  "language_info": {
   "codemirror_mode": {
    "name": "ipython",
    "version": 3
   },
   "file_extension": ".py",
   "mimetype": "text/x-python",
   "name": "python",
   "nbconvert_exporter": "python",
   "pygments_lexer": "ipython3",
   "version": "3.8.0"
  }
 },
 "nbformat": 4,
 "nbformat_minor": 4
}
